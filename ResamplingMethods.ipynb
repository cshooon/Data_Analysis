{
  "cells": [
    {
      "cell_type": "markdown",
      "metadata": {
        "id": "view-in-github",
        "colab_type": "text"
      },
      "source": [
        "<a href=\"https://colab.research.google.com/github/cshooon/Data_Analysis/blob/main/ResamplingMethods.ipynb\" target=\"_parent\"><img src=\"https://colab.research.google.com/assets/colab-badge.svg\" alt=\"Open In Colab\"/></a>"
      ]
    },
    {
      "cell_type": "code",
      "source": [
        "from google.colab import drive\n",
        "drive.mount('/content/drive')"
      ],
      "metadata": {
        "colab": {
          "base_uri": "https://localhost:8080/"
        },
        "id": "ufD66qSVy4W_",
        "outputId": "b7652096-3799-4625-e827-5dff7e7af04b"
      },
      "execution_count": null,
      "outputs": [
        {
          "output_type": "stream",
          "name": "stdout",
          "text": [
            "Mounted at /content/drive\n"
          ]
        }
      ]
    },
    {
      "cell_type": "code",
      "execution_count": null,
      "metadata": {
        "id": "jZETIZkwymE8"
      },
      "outputs": [],
      "source": [
        "import numpy as np\n",
        "\n",
        "import pandas as pd\n",
        "\n",
        "pd.set_option('display.precision', 2)\n",
        "pd.set_option('display.max_rows', 12)\n",
        "pd.set_option('display.float_format', '{:20,.2f}'.format)"
      ]
    },
    {
      "cell_type": "code",
      "execution_count": null,
      "metadata": {
        "id": "DbmadHyaymFB"
      },
      "outputs": [],
      "source": [
        "auto = pd.read_csv('/content/drive/MyDrive/RecoSys/Data/Auto.csv', na_values=['?'])\n",
        "auto.dropna(axis=0, inplace=True)\n",
        "\n",
        "auto.cylinders = auto.cylinders.astype('category')\n",
        "auto.name = auto.name.astype('category')\n",
        "auto.reset_index(inplace=True)\n",
        "auto['horsepower_2'] = np.power(auto.horsepower, 2)\n",
        "auto['horsepower_3'] = np.power(auto.horsepower, 3)\n",
        "auto['horsepower_4'] = np.power(auto.horsepower, 4)\n",
        "auto['horsepower_5'] = np.power(auto.horsepower, 5)\n",
        "\n",
        "from sklearn.preprocessing import PolynomialFeatures\n",
        "pol = PolynomialFeatures(degree=5, interaction_only=False, include_bias=False)\n",
        "polf = pol.fit_transform(auto.loc[:, 'horsepower'].values.reshape(-1,1))"
      ]
    },
    {
      "cell_type": "code",
      "execution_count": null,
      "metadata": {
        "id": "wpO9UX8IymFD"
      },
      "outputs": [],
      "source": [
        "from sklearn.model_selection import train_test_split\n",
        "\n",
        "X, y = auto.loc[:, ['horsepower', 'horsepower_2', 'horsepower_3']], auto.mpg\n",
        "\n",
        "X_train, X_test, y_train, y_test = train = train_test_split(X, y, test_size=0.5, random_state=42)"
      ]
    },
    {
      "cell_type": "code",
      "execution_count": null,
      "metadata": {
        "colab": {
          "base_uri": "https://localhost:8080/"
        },
        "id": "2mDyqI4lymFE",
        "outputId": "fa3fc6cf-76b2-44d6-9586-c745c4e6e069"
      },
      "outputs": [
        {
          "output_type": "stream",
          "name": "stdout",
          "text": [
            "lm1 MSE: 25.5738781896844\n",
            "lm2 MSE: 22.218020050032855\n",
            "lm3 MSE: 22.667675435534864\n"
          ]
        }
      ],
      "source": [
        "from sklearn.linear_model import LinearRegression\n",
        "from sklearn.metrics import mean_squared_error\n",
        "\n",
        "lm1 = LinearRegression(fit_intercept=True)\n",
        "lm2 = LinearRegression(fit_intercept=True)\n",
        "lm3= LinearRegression(fit_intercept=True)\n",
        "\n",
        "lm1_fit = lm1.fit(X_train.loc[:,'horsepower'].values.reshape(-1,1),y_train)\n",
        "lm2_fit=lm2.fit(X_train.loc[:,['horsepower','horsepower_2']],y_train)\n",
        "lm3_fit=lm3.fit(X_train.loc[:,['horsepower','horsepower_2','horsepower_3']],y_train)\n",
        "\n",
        "lm1_predict=lm1_fit.predict(X_test.loc[:,'horsepower'].values.reshape(-1,1))\n",
        "lm2_predict=lm2_fit.predict(X_test.loc[:,['horsepower','horsepower_2']])\n",
        "lm3_predict=lm3_fit.predict(X_test.loc[:,['horsepower','horsepower_2','horsepower_3']])\n",
        "\n",
        "print('lm1 MSE:',mean_squared_error(y_test,lm1_predict))\n",
        "print('lm2 MSE:',mean_squared_error(y_test,lm2_predict))\n",
        "print('lm3 MSE:',mean_squared_error(y_test,lm3_predict))"
      ]
    },
    {
      "cell_type": "code",
      "execution_count": null,
      "metadata": {
        "colab": {
          "base_uri": "https://localhost:8080/"
        },
        "id": "b8iH6XI1ymFG",
        "outputId": "15b93f59-6808-4391-e7ab-1e43190a6397"
      },
      "outputs": [
        {
          "output_type": "execute_result",
          "data": {
            "text/plain": [
              "392"
            ]
          },
          "metadata": {},
          "execution_count": 8
        }
      ],
      "source": [
        "from sklearn.model_selection import LeaveOneOut\n",
        "\n",
        "X,y=auto.loc[:,['horsepower','horsepower_2','horsepower_3','horsepower_4','horsepower_5']],auto.mpg\n",
        "\n",
        "loocv=LeaveOneOut()\n",
        "loocv.get_n_splits(X)"
      ]
    },
    {
      "cell_type": "code",
      "execution_count": null,
      "metadata": {
        "colab": {
          "base_uri": "https://localhost:8080/"
        },
        "id": "0hgUz3O2ymFH",
        "outputId": "e255b8f5-cece-450d-d226-6e911c893b1c"
      },
      "outputs": [
        {
          "output_type": "execute_result",
          "data": {
            "text/plain": [
              "24.231513517929226"
            ]
          },
          "metadata": {},
          "execution_count": 9
        }
      ],
      "source": [
        "loocv_mse=[]\n",
        "\n",
        "lm=LinearRegression(fit_intercept=True)\n",
        "\n",
        "for train_index,test_index in loocv.split(X):\n",
        "    X_train,X_test=X.iloc[train_index],X.iloc[test_index]\n",
        "    y_train,y_test=y.iloc[train_index],y.iloc[test_index]\n",
        "\n",
        "    lm1_fit=lm.fit(X_train.loc[:,'horsepower'].values.reshape(-1,1),y_train)\n",
        "    lm1_predict=lm1_fit.predict(X_test.loc[:,'horsepower'].values.reshape(-1,1))\n",
        "\n",
        "    loocv_mse.append(mean_squared_error(y_test,lm1_predict))\n",
        "\n",
        "np.array(loocv_mse).mean()"
      ]
    },
    {
      "cell_type": "code",
      "execution_count": null,
      "metadata": {
        "colab": {
          "base_uri": "https://localhost:8080/"
        },
        "id": "4gbUrTdNymFJ",
        "outputId": "d8a40751-4e63-4b3b-834a-43b6498cdca6"
      },
      "outputs": [
        {
          "output_type": "execute_result",
          "data": {
            "text/plain": [
              "24.231513517929226"
            ]
          },
          "metadata": {},
          "execution_count": 10
        }
      ],
      "source": [
        "from sklearn.model_selection import cross_val_score\n",
        "\n",
        "lm=LinearRegression(fit_intercept=True)\n",
        "\n",
        "cval=cross_val_score(lm,\n",
        "                    auto.loc[:,'horsepower'].values.reshape(-1,1),\n",
        "                     auto.mpg,\n",
        "                     cv=len(auto),\n",
        "                     n_jobs=-1,\n",
        "                     scoring='neg_mean_squared_error')\n",
        "-cval.mean()"
      ]
    },
    {
      "cell_type": "code",
      "execution_count": null,
      "metadata": {
        "id": "bE12b3qcymFK"
      },
      "outputs": [],
      "source": [
        "loocv_poly={}\n",
        "\n",
        "for i in range(1,6):\n",
        "    loocv_mse=[]\n",
        "\n",
        "    for train_index,test_index in loocv.split(X):\n",
        "        X_train,X_test=X.iloc[train_index],X.iloc[test_index]\n",
        "        y_train,y_test=y.iloc[train_index],y.iloc[test_index]\n",
        "\n",
        "        if i==1:\n",
        "            X_TRAIN=X_train.iloc[:,0:1].values.reshape(-1,1)\n",
        "            X_TEST=X_test.iloc[:,0:1].values.reshape(-1,1)\n",
        "        else:\n",
        "            X_TRAIN=X_train.iloc[:,0:i]\n",
        "            X_TEST=X_test.iloc[:,0:i]\n",
        "\n",
        "\n",
        "        loocv_mse.append(\n",
        "            mean_squared_error(\n",
        "                y_test,\n",
        "                LinearRegression(fit_intercept=True)\n",
        "                .fit(\n",
        "                    X_TRAIN,\n",
        "                    y_train\n",
        "                )\n",
        "                .predict(\n",
        "                    X_TEST\n",
        "                )\n",
        "            )\n",
        "        )\n",
        "\n",
        "        loocv_poly['lm'+str(i)+'_MSE']=np.array(loocv_mse).mean()"
      ]
    },
    {
      "cell_type": "code",
      "execution_count": null,
      "metadata": {
        "colab": {
          "base_uri": "https://localhost:8080/"
        },
        "id": "nNjQfN69ymFL",
        "outputId": "607ba98a-5261-4bd6-89c4-2d8c3b02401b"
      },
      "outputs": [
        {
          "output_type": "execute_result",
          "data": {
            "text/plain": [
              "{'lm1_MSE': 24.231513517929226,\n",
              " 'lm2_MSE': 19.24821312448967,\n",
              " 'lm3_MSE': 19.33498406402931,\n",
              " 'lm4_MSE': 19.424430310232463,\n",
              " 'lm5_MSE': 19.033212486158245}"
            ]
          },
          "metadata": {},
          "execution_count": 12
        }
      ],
      "source": [
        "loocv_poly"
      ]
    },
    {
      "cell_type": "code",
      "execution_count": null,
      "metadata": {
        "id": "Bzjf2-77ymFM"
      },
      "outputs": [],
      "source": [
        "from sklearn.model_selection import KFold\n",
        "\n",
        "X,y=auto.loc[:,['horsepower','horsepower_2','horsepower_3','horsepower_4','horsepower_5']], auto.mpg\n",
        "\n",
        "kf=KFold(n_splits=10,shuffle=True,random_state=42)"
      ]
    },
    {
      "cell_type": "code",
      "execution_count": null,
      "metadata": {
        "id": "i0G8yhG6ymFM"
      },
      "outputs": [],
      "source": [
        "kf_poly={}\n",
        "\n",
        "for i in range(1,6):\n",
        "    kf_mse=[]\n",
        "\n",
        "    for train_index,test_index in kf.split(X):\n",
        "        X_train,X_test=X.iloc[train_index], X.iloc[test_index]\n",
        "        y_train,y_test=y.iloc[train_index],y.iloc[test_index]\n",
        "\n",
        "        if i==1:\n",
        "            X_TRAIN=X_train.iloc[:,0:1].values.reshape(-1,1)\n",
        "            X_TEST=X_test.iloc[:,0:1].values.reshape(-1,1)\n",
        "        else:\n",
        "            X_TRAIN=X_train.iloc[:,0:i]\n",
        "            X_TEST=X_test.iloc[:,0:i]\n",
        "\n",
        "        kf_mse.append(\n",
        "            mean_squared_error(\n",
        "                y_test,\n",
        "                LinearRegression(fit_intercept=True)\n",
        "                .fit(\n",
        "                    X_TRAIN,\n",
        "                    y_train\n",
        "                )\n",
        "                .predict(\n",
        "                    X_TEST\n",
        "                )\n",
        "            )\n",
        "        )\n",
        "\n",
        "        kf_poly['lm'+str(i)+'_MSE']=np.array(kf_mse).mean()"
      ]
    },
    {
      "cell_type": "code",
      "execution_count": null,
      "metadata": {
        "colab": {
          "base_uri": "https://localhost:8080/"
        },
        "id": "0M2XE5sXymFN",
        "outputId": "220694a1-4c28-4e90-9f24-1007420c6ba5"
      },
      "outputs": [
        {
          "output_type": "execute_result",
          "data": {
            "text/plain": [
              "{'lm1_MSE': 24.199808197692477,\n",
              " 'lm2_MSE': 19.228636614268016,\n",
              " 'lm3_MSE': 19.26626534663179,\n",
              " 'lm4_MSE': 19.351092272836148,\n",
              " 'lm5_MSE': 19.023233396518712}"
            ]
          },
          "metadata": {},
          "execution_count": 15
        }
      ],
      "source": [
        "kf_poly"
      ]
    },
    {
      "cell_type": "code",
      "execution_count": null,
      "metadata": {
        "id": "tP7EczMPymFO"
      },
      "outputs": [],
      "source": [
        "portfolio=pd.read_csv('/content/drive/MyDrive/RecoSys/Data/Portfolio.csv',index_col=0)"
      ]
    },
    {
      "cell_type": "code",
      "execution_count": null,
      "metadata": {
        "id": "tBv6HhaTymFO"
      },
      "outputs": [],
      "source": [
        "def alpha_fn(data,start_index,end_index):\n",
        "    X=data['X'][start_index:end_index]\n",
        "    Y=data['Y'][start_index:end_index]\n",
        "    return ((np.var(Y)-np.cov(X,Y)[0][1])/(np.var(X)+np.var(Y)-2*np.cov(X,Y)[0][1]))"
      ]
    },
    {
      "cell_type": "code",
      "execution_count": null,
      "metadata": {
        "colab": {
          "base_uri": "https://localhost:8080/"
        },
        "id": "WOG2jg3vymFP",
        "outputId": "72c9e21c-94c6-4ac2-b7f7-311a14a20b93"
      },
      "outputs": [
        {
          "output_type": "execute_result",
          "data": {
            "text/plain": [
              "0.5766511516104116"
            ]
          },
          "metadata": {},
          "execution_count": 18
        }
      ],
      "source": [
        "alpha_fn(portfolio,0,100)"
      ]
    },
    {
      "cell_type": "code",
      "execution_count": null,
      "metadata": {
        "colab": {
          "base_uri": "https://localhost:8080/"
        },
        "id": "2ciow6RaymFP",
        "outputId": "b95e4c66-5fbb-4c52-8920-d611a842a77e"
      },
      "outputs": [
        {
          "output_type": "execute_result",
          "data": {
            "text/plain": [
              "0.6964280702607113"
            ]
          },
          "metadata": {},
          "execution_count": 19
        }
      ],
      "source": [
        "from sklearn.utils import resample\n",
        "\n",
        "portfolio_bs=resample(portfolio,replace=True,n_samples=100)\n",
        "\n",
        "alpha_fn(portfolio_bs,0,100)"
      ]
    },
    {
      "cell_type": "code",
      "execution_count": null,
      "metadata": {
        "colab": {
          "base_uri": "https://localhost:8080/"
        },
        "id": "cE1lOT9yymFQ",
        "outputId": "43a1b837-b852-4bd5-fa03-8e6838bea6f5"
      },
      "outputs": [
        {
          "output_type": "stream",
          "name": "stdout",
          "text": [
            "Bootstrapped alphha: 0.5812964422614113\n",
            "SE: 0.0919817353304317\n"
          ]
        }
      ],
      "source": [
        "bs_alpha=[]\n",
        "\n",
        "for i in range(0,1000):\n",
        "    bs_alpha.append(\n",
        "        alpha_fn(resample(portfolio,replace=True,n_samples=100),0,100)\n",
        "    )\n",
        "\n",
        "\n",
        "bs_alpha=np.array(bs_alpha)\n",
        "\n",
        "print('Bootstrapped alphha:',bs_alpha.mean())\n",
        "print('SE:',bs_alpha.std())"
      ]
    },
    {
      "cell_type": "code",
      "execution_count": null,
      "metadata": {
        "colab": {
          "base_uri": "https://localhost:8080/"
        },
        "id": "hxayIsgsymFQ",
        "outputId": "7150b772-8fa3-4a44-e498-c25a8c0714ef"
      },
      "outputs": [
        {
          "output_type": "execute_result",
          "data": {
            "text/plain": [
              "(39.93586102117047, array([-0.15784473]))"
            ]
          },
          "metadata": {},
          "execution_count": 21
        }
      ],
      "source": [
        "def boot_fn(data,start_index,end_index):\n",
        "    m=LinearRegression(fit_intercept=True).fit(\n",
        "        data['horsepower'][start_index:end_index].values.reshape(-1,1),\n",
        "        data['mpg'][start_index:end_index]\n",
        "    )\n",
        "\n",
        "    return m.intercept_,m.coef_\n",
        "\n",
        "boot_fn(auto,0,392)"
      ]
    },
    {
      "cell_type": "code",
      "execution_count": null,
      "metadata": {
        "colab": {
          "base_uri": "https://localhost:8080/"
        },
        "id": "tEuJQmpcymFR",
        "outputId": "6ba63dce-d659-4f03-eaa9-be04a077be0a"
      },
      "outputs": [
        {
          "output_type": "execute_result",
          "data": {
            "text/plain": [
              "(40.25728302617579, array([-0.16028923]))"
            ]
          },
          "metadata": {},
          "execution_count": 22
        }
      ],
      "source": [
        "boot_fn(resample(auto,replace=True,n_samples=392),0,392)"
      ]
    },
    {
      "cell_type": "code",
      "execution_count": null,
      "metadata": {
        "colab": {
          "base_uri": "https://localhost:8080/"
        },
        "id": "JpRYR2wvymFR",
        "outputId": "2cb9bd55-03e6-4ffb-cb45-7ba418cfa18a"
      },
      "outputs": [
        {
          "output_type": "stream",
          "name": "stdout",
          "text": [
            "t1 bs estimate & se: 39.997171073228245 0.8507432939771671\n",
            "t2 bs estimate & se: -0.1582762057821544 0.007451513346926932\n"
          ]
        }
      ],
      "source": [
        "bs_boot={'t1':[],'t2':[]}\n",
        "\n",
        "for i in range(0,1000):\n",
        "    bs_boot['t1'].append(\n",
        "        boot_fn(resample(auto,replace=True,n_samples=392),0,392)[0]\n",
        "    )\n",
        "    bs_boot['t2'].append(\n",
        "        boot_fn(resample(auto,replace=True,n_samples=392),0,392)[1][0]\n",
        "    )\n",
        "\n",
        "t1_es=np.array(bs_boot['t1']).mean()\n",
        "t1_se=np.array(bs_boot['t1']).std()\n",
        "t2_es=np.array(bs_boot['t2']).mean()\n",
        "t2_se=np.array(bs_boot['t2']).std()\n",
        "\n",
        "print('t1 bs estimate & se:',t1_es,t1_se)\n",
        "print('t2 bs estimate & se:',t2_es,t2_se)\n",
        "\n",
        ""
      ]
    },
    {
      "cell_type": "code",
      "execution_count": null,
      "metadata": {
        "id": "qcDYyrUgymFS"
      },
      "outputs": [],
      "source": [
        "def boot_fn2(data,start_index,end_index):\n",
        "    m=LinearRegression(fit_intercept=True).fit(\n",
        "        data[['horsepower','horsepower_2']][start_index:end_index],\n",
        "        data['mpg'][start_index:end_index]\n",
        "    )\n",
        "\n",
        "    return m.intercept_,m.coef_"
      ]
    },
    {
      "cell_type": "code",
      "execution_count": null,
      "metadata": {
        "colab": {
          "base_uri": "https://localhost:8080/"
        },
        "id": "3uG-jOKqymFT",
        "outputId": "07621e5b-9f4b-4b3c-cf62-81ffe94f32ce"
      },
      "outputs": [
        {
          "output_type": "stream",
          "name": "stdout",
          "text": [
            "t1 bs estimate & se: 56.93544551186446 2.0964793119146967\n",
            "t2 bs estimate & se: -0.46639314875522314 0.0320876824299147\n",
            "t3 bs estimate & se: 0.0012351461474546578 0.0001235542123676482\n"
          ]
        }
      ],
      "source": [
        "bs_boot2={'t1':[],'t2':[], 't3':[]}\n",
        "\n",
        "for i in range(0,1000):\n",
        "    bs_boot2['t1'].append(\n",
        "        boot_fn2(resample(auto,replace=True,n_samples=392),0,392)[0]\n",
        "    )\n",
        "    bs_boot2['t2'].append(\n",
        "        boot_fn2(resample(auto,replace=True,n_samples=392),0,392)[1][0]\n",
        "    )\n",
        "    bs_boot2['t3'].append(\n",
        "        boot_fn2(resample(auto,replace=True,n_samples=392),0,392)[1][1]\n",
        "    )\n",
        "\n",
        "t1_es=np.array(bs_boot2['t1']).mean()\n",
        "t1_se=np.array(bs_boot2['t1']).std()\n",
        "t2_es=np.array(bs_boot2['t2']).mean()\n",
        "t2_se=np.array(bs_boot2['t2']).std()\n",
        "t3_es=np.array(bs_boot2['t3']).mean()\n",
        "t3_se=np.array(bs_boot2['t3']).std()\n",
        "\n",
        "print('t1 bs estimate & se:',t1_es,t1_se)\n",
        "print('t2 bs estimate & se:',t2_es,t2_se)\n",
        "print('t3 bs estimate & se:',t3_es,t3_se)\n",
        "\n"
      ]
    },
    {
      "cell_type": "code",
      "execution_count": null,
      "metadata": {
        "colab": {
          "base_uri": "https://localhost:8080/",
          "height": 104
        },
        "id": "4Woj2MiaymFT",
        "outputId": "b06ff0ac-5367-498d-c23d-0371c9aa1665"
      },
      "outputs": [
        {
          "output_type": "execute_result",
          "data": {
            "text/plain": [
              "<class 'statsmodels.iolib.table.SimpleTable'>"
            ],
            "text/html": [
              "<table class=\"simpletable\">\n",
              "<tr>\n",
              "        <td></td>          <th>coef</th>     <th>std err</th>      <th>t</th>      <th>P>|t|</th>  <th>[0.025</th>    <th>0.975]</th>  \n",
              "</tr>\n",
              "<tr>\n",
              "  <th>Intercept</th>    <td>   56.9001</td> <td>    1.800</td> <td>   31.604</td> <td> 0.000</td> <td>   53.360</td> <td>   60.440</td>\n",
              "</tr>\n",
              "<tr>\n",
              "  <th>horsepower</th>   <td>   -0.4662</td> <td>    0.031</td> <td>  -14.978</td> <td> 0.000</td> <td>   -0.527</td> <td>   -0.405</td>\n",
              "</tr>\n",
              "<tr>\n",
              "  <th>horsepower_2</th> <td>    0.0012</td> <td>    0.000</td> <td>   10.080</td> <td> 0.000</td> <td>    0.001</td> <td>    0.001</td>\n",
              "</tr>\n",
              "</table>"
            ]
          },
          "metadata": {},
          "execution_count": 26
        }
      ],
      "source": [
        "import statsmodels.formula.api as sm\n",
        "ols2=sm.ols('mpg~horsepower+horsepower_2',data=auto).fit()\n",
        "ols2.summary().tables[1]"
      ]
    }
  ],
  "metadata": {
    "kernelspec": {
      "display_name": "Python 3 (ipykernel)",
      "language": "python",
      "name": "python3"
    },
    "language_info": {
      "codemirror_mode": {
        "name": "ipython",
        "version": 3
      },
      "file_extension": ".py",
      "mimetype": "text/x-python",
      "name": "python",
      "nbconvert_exporter": "python",
      "pygments_lexer": "ipython3",
      "version": "3.9.7"
    },
    "colab": {
      "provenance": [],
      "include_colab_link": true
    }
  },
  "nbformat": 4,
  "nbformat_minor": 0
}